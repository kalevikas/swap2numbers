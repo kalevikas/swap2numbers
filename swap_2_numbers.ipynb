{
 "cells": [
  {
   "cell_type": "markdown",
   "id": "8643393e",
   "metadata": {},
   "source": [
    "# Write a program to swap two numbers."
   ]
  },
  {
   "cell_type": "code",
   "execution_count": 6,
   "id": "2faad3b2",
   "metadata": {},
   "outputs": [
    {
     "name": "stdout",
     "output_type": "stream",
     "text": [
      "The value of num1 before swapping:  10\n",
      "The value of num2 before swapping:  20\n",
      "The value of num1 after swapping:  20\n",
      "The value of num2 after swapping:  10\n"
     ]
    }
   ],
   "source": [
    "num1=10\n",
    "num2=20\n",
    "\n",
    "print(\"The value of num1 before swapping: \",num1)\n",
    "print(\"The value of num2 before swapping: \",num2)\n",
    "\n",
    "temp=num1 # tem=10\n",
    "num1=num2 # num1=20\n",
    "num2=temp # num2=10\n",
    "\n",
    "\n",
    "print(\"The value of num1 after swapping: \",num1) \n",
    "print(\"The value of num2 after swapping: \",num2)\n"
   ]
  },
  {
   "cell_type": "markdown",
   "id": "78931362",
   "metadata": {},
   "source": [
    "**take input from user**"
   ]
  },
  {
   "cell_type": "code",
   "execution_count": 7,
   "id": "e763ff97",
   "metadata": {},
   "outputs": [
    {
     "name": "stdout",
     "output_type": "stream",
     "text": [
      "Enter the value of num1: 40\n",
      "Enter the value of num2: 80\n",
      "The value of num1 before swapping:  40\n",
      "The value of num2 before swapping:  80\n",
      "The value of num1 after swapping:  80\n",
      "The value of num2 after swapping:  40\n"
     ]
    }
   ],
   "source": [
    "num1=int(input(\"Enter the value of num1: \"))\n",
    "num2=int(input(\"Enter the value of num2: \"))\n",
    "\n",
    "print(\"The value of num1 before swapping: \",num1)\n",
    "print(\"The value of num2 before swapping: \",num2)\n",
    "\n",
    "temp=num1 # tem=10\n",
    "num1=num2 # num1=20\n",
    "num2=temp # num2=10\n",
    "\n",
    "\n",
    "print(\"The value of num1 after swapping: \",num1) \n",
    "print(\"The value of num2 after swapping: \",num2)\n"
   ]
  },
  {
   "cell_type": "markdown",
   "id": "da2d7eb2",
   "metadata": {},
   "source": [
    "# method 2"
   ]
  },
  {
   "cell_type": "code",
   "execution_count": 10,
   "id": "c58b1216",
   "metadata": {},
   "outputs": [
    {
     "name": "stdout",
     "output_type": "stream",
     "text": [
      "Enter the value of num1: 45\n",
      "Enter the value of num2: 80\n",
      "The value of num1:  80\n",
      "The value of num2:  45\n"
     ]
    }
   ],
   "source": [
    "num1=int(input(\"Enter the value of num1: \"))\n",
    "num2=int(input(\"Enter the value of num2: \"))\n",
    "\n",
    "num1,num2=num2,num1\n",
    "\n",
    "print(\"The value of num1: \",num1)\n",
    "print(\"The value of num2: \",num2)\n"
   ]
  },
  {
   "cell_type": "code",
   "execution_count": 11,
   "id": "f186cbac",
   "metadata": {},
   "outputs": [
    {
     "name": "stdout",
     "output_type": "stream",
     "text": [
      "The course1 is:  Data Science\n",
      "The course2 is:  Python\n"
     ]
    }
   ],
   "source": [
    "course1=\"Python\"\n",
    "course2=\"Data Science\"\n",
    "\n",
    "course1,course2=course2,course1\n",
    "\n",
    "print(\"The course1 is: \",course1)\n",
    "print(\"The course2 is: \",course2)"
   ]
  },
  {
   "cell_type": "markdown",
   "id": "6796d9c9",
   "metadata": {},
   "source": [
    "# method 3"
   ]
  },
  {
   "cell_type": "code",
   "execution_count": 12,
   "id": "485797be",
   "metadata": {},
   "outputs": [
    {
     "name": "stdout",
     "output_type": "stream",
     "text": [
      "Enter the value of a: 12\n",
      "Enter the value of b: 24\n",
      "The value of num1:  24\n",
      "The value of num2:  12\n"
     ]
    }
   ],
   "source": [
    "a=int(input(\"Enter the value of a: \"))\n",
    "b=int(input(\"Enter the value of b: \"))\n",
    "\n",
    "a=a+b\n",
    "b=a-b\n",
    "a=a-b\n",
    "\n",
    "print(\"The value of num1: \",a)\n",
    "print(\"The value of num2: \",b)\n"
   ]
  },
  {
   "cell_type": "code",
   "execution_count": 14,
   "id": "a948eb7e",
   "metadata": {},
   "outputs": [
    {
     "name": "stdout",
     "output_type": "stream",
     "text": [
      "Enter the value of a: 88\n",
      "Enter the value of b: 95\n",
      "The value of num1:  95\n",
      "The value of num2:  88\n"
     ]
    }
   ],
   "source": [
    "a=int(input(\"Enter the value of a: \"))\n",
    "b=int(input(\"Enter the value of b: \"))\n",
    "\n",
    "a=a^b    # ^ X-OR symbol\n",
    "b=a^b\n",
    "a=a^b\n",
    "\n",
    "print(\"The value of num1: \",a)\n",
    "print(\"The value of num2: \",b)\n"
   ]
  },
  {
   "cell_type": "code",
   "execution_count": null,
   "id": "f3dc68f4",
   "metadata": {},
   "outputs": [],
   "source": []
  }
 ],
 "metadata": {
  "kernelspec": {
   "display_name": "Python 3",
   "language": "python",
   "name": "python3"
  },
  "language_info": {
   "codemirror_mode": {
    "name": "ipython",
    "version": 3
   },
   "file_extension": ".py",
   "mimetype": "text/x-python",
   "name": "python",
   "nbconvert_exporter": "python",
   "pygments_lexer": "ipython3",
   "version": "3.8.8"
  }
 },
 "nbformat": 4,
 "nbformat_minor": 5
}
